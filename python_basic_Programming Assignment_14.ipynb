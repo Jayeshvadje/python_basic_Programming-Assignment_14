{
 "cells": [
  {
   "cell_type": "markdown",
   "id": "070be6ca",
   "metadata": {},
   "source": [
    "python_basic_Programming Assignment_14"
   ]
  },
  {
   "cell_type": "markdown",
   "id": "fd25dc8a",
   "metadata": {},
   "source": [
    "1) Define a class with a generator which can iterate the numbers, which are divisible by\n",
    "7, between a given range 0 and n."
   ]
  },
  {
   "cell_type": "code",
   "execution_count": 43,
   "id": "8732e590",
   "metadata": {},
   "outputs": [
    {
     "name": "stdout",
     "output_type": "stream",
     "text": [
      "0\n",
      "7\n",
      "14\n",
      "21\n",
      "28\n",
      "35\n",
      "42\n",
      "49\n"
     ]
    }
   ],
   "source": [
    "class divi:\n",
    "    def __init__(self,n):\n",
    "        self.n=n\n",
    "    \n",
    "    def div(self):\n",
    "        for i in range(self.n+1):\n",
    "            if i%7==0:\n",
    "                yield i\n",
    "                \n",
    "n=50\n",
    "gen=divi(n)\n",
    "divisible_sevens=gen.div()\n",
    "for num in divisible_sevens:\n",
    "    print(num)"
   ]
  },
  {
   "cell_type": "markdown",
   "id": "0ed2fe04",
   "metadata": {},
   "source": [
    "Write a program to compute the frequency of the words from the input. The output\n",
    "should output after sorting the key alphanumerically.\n",
    "Suppose the following input is supplied to the program:\n",
    "New to Python or choosing between Python 2 and Python 3? Read Python 2 or\n",
    "Python 3.\n",
    "Then, the output should be:\n",
    "2:2\n",
    "3.:1\n",
    "3?:1\n",
    "New:1\n",
    "Python:5\n",
    "Read:1\n",
    "and:1\n",
    "between:1\n",
    "choosing:1\n",
    "or:2"
   ]
  },
  {
   "cell_type": "code",
   "execution_count": 45,
   "id": "ccde0130",
   "metadata": {},
   "outputs": [
    {
     "name": "stdout",
     "output_type": "stream",
     "text": [
      "Enter a sentence: Python 3\n",
      "3:1\n",
      "Python:1\n"
     ]
    }
   ],
   "source": [
    "from collections import defaultdict\n",
    "\n",
    "def compute_word_frequency(sentence):\n",
    "    frequency = defaultdict(int)\n",
    "    words = sentence.split()\n",
    "\n",
    "    for word in words:\n",
    "        frequency[word] += 1\n",
    "\n",
    "    return frequency\n",
    "\n",
    "def print_word_frequency(frequency):\n",
    "    sorted_frequency = sorted(frequency.items(), key=lambda x: x[0])\n",
    "\n",
    "    for word, count in sorted_frequency:\n",
    "        print(f\"{word}:{count}\")\n",
    "sentence = input(\"Enter a sentence: \")\n",
    "word_frequency = compute_word_frequency(sentence)\n",
    "print_word_frequency(word_frequency)"
   ]
  },
  {
   "cell_type": "markdown",
   "id": "d18d8a11",
   "metadata": {},
   "source": [
    "Define a class Person and its two child classes: Male and Female. All classes have a\n",
    "method &quot;getGender&quot; which can print &quot;Male&quot; for Male class and &quot;Female&quot; for Female\n",
    "class."
   ]
  },
  {
   "cell_type": "code",
   "execution_count": 47,
   "id": "a470d548",
   "metadata": {},
   "outputs": [
    {
     "name": "stdout",
     "output_type": "stream",
     "text": [
      "Male\n",
      "Female\n"
     ]
    }
   ],
   "source": [
    "class Person:\n",
    "    def getGender(self):\n",
    "        pass\n",
    "\n",
    "class Male(Person):\n",
    "    def getGender(self):\n",
    "        print(\"Male\")\n",
    "\n",
    "class Female(Person):\n",
    "    def getGender(self):\n",
    "        print(\"Female\")\n",
    "person = Person()\n",
    "person.getGender() \n",
    "male = Male()\n",
    "male.getGender()  \n",
    "female = Female()\n",
    "female.getGender() "
   ]
  },
  {
   "cell_type": "markdown",
   "id": "afc25b61",
   "metadata": {},
   "source": [
    "Please write a program to generate all sentences where subject is in [&quot;I&quot;, &quot;You&quot;] and\n",
    "verb is in [&quot;Play&quot;, &quot;Love&quot;] and the object is in [&quot;Hockey&quot;,&quot;Football&quot;]."
   ]
  },
  {
   "cell_type": "code",
   "execution_count": 49,
   "id": "dc705095",
   "metadata": {},
   "outputs": [
    {
     "name": "stdout",
     "output_type": "stream",
     "text": [
      "I Play Hockey.\n",
      "I Play Football.\n",
      "I Love Hockey.\n",
      "I Love Football.\n",
      "You Play Hockey.\n",
      "You Play Football.\n",
      "You Love Hockey.\n",
      "You Love Football.\n"
     ]
    }
   ],
   "source": [
    "\n",
    "subjects = [\"I\", \"You\"]\n",
    "verbs = [\"Play\", \"Love\"]\n",
    "objects = [\"Hockey\", \"Football\"]\n",
    "\n",
    "sentences = []\n",
    "\n",
    "for subject in subjects:\n",
    "    for verb in verbs:\n",
    "        for obj in objects:\n",
    "            sentence = f\"{subject} {verb} {obj}.\"\n",
    "            sentences.append(sentence)\n",
    "\n",
    "for sentence in sentences:\n",
    "    print(sentence)\n",
    "\n"
   ]
  },
  {
   "cell_type": "markdown",
   "id": "62cf024c",
   "metadata": {},
   "source": [
    "Please write a program to compress and decompress the string &quot;hello world!hello\n",
    "world!hello world!hello world!&quot;."
   ]
  },
  {
   "cell_type": "code",
   "execution_count": 51,
   "id": "d1d3e410",
   "metadata": {},
   "outputs": [
    {
     "name": "stdout",
     "output_type": "stream",
     "text": [
      "Original String: hello world!hello world!hello world!hello world!\n",
      "Compressed Data: b'\\x1f\\x8b\\x08\\x00\\xb7\\xaf[d\\x02\\xff\\xcbH\\xcd\\xc9\\xc9W(\\xcf/\\xcaIQ\\xcc \\x82\\r\\x00\\xd3\\xe6\\xcf\\xae0\\x00\\x00\\x00'\n",
      "Decompressed String: hello world!hello world!hello world!hello world!\n"
     ]
    }
   ],
   "source": [
    "import gzip\n",
    "\n",
    "def compress_string(string):\n",
    "    compressed_data = gzip.compress(string.encode(\"utf-8\"))\n",
    "    return compressed_data\n",
    "\n",
    "def decompress_string(compressed_data):\n",
    "    decompressed_data = gzip.decompress(compressed_data).decode(\"utf-8\")\n",
    "    return decompressed_data\n",
    "\n",
    "\n",
    "original_string = \"hello world!hello world!hello world!hello world!\"\n",
    "print(\"Original String:\", original_string)\n",
    "\n",
    "\n",
    "compressed_data = compress_string(original_string)\n",
    "print(\"Compressed Data:\", compressed_data)\n",
    "\n",
    "\n",
    "decompressed_string = decompress_string(compressed_data)\n",
    "print(\"Decompressed String:\", decompressed_string)"
   ]
  },
  {
   "cell_type": "markdown",
   "id": "c821556c",
   "metadata": {},
   "source": [
    "Please write a binary search function which searches an item in a sorted list. The\n",
    "function should return the index of element to be searched in the list."
   ]
  },
  {
   "cell_type": "code",
   "execution_count": 53,
   "id": "fb8d64e6",
   "metadata": {},
   "outputs": [
    {
     "name": "stdout",
     "output_type": "stream",
     "text": [
      "Item 10 found at index 3.\n"
     ]
    }
   ],
   "source": [
    "\n",
    "def binary_search(arr, item):\n",
    "    low = 0\n",
    "    high = len(arr) - 1\n",
    "\n",
    "    while low <= high:\n",
    "        mid = (low + high) // 2\n",
    "        guess = arr[mid]\n",
    "\n",
    "        if guess == item:\n",
    "            return mid\n",
    "        elif guess > item:\n",
    "            high = mid - 1\n",
    "        else:\n",
    "            low = mid + 1\n",
    "\n",
    "    return -1  \n",
    "\n",
    "sorted_list = [2, 5, 7, 10, 13, 15, 20, 22]\n",
    "search_item = 10\n",
    "\n",
    "index = binary_search(sorted_list, search_item)\n",
    "if index != -1:\n",
    "    print(f\"Item {search_item} found at index {index}.\")\n",
    "else:\n",
    "    print(\"Item not found.\")"
   ]
  },
  {
   "cell_type": "code",
   "execution_count": null,
   "id": "eeeb9772",
   "metadata": {},
   "outputs": [],
   "source": []
  }
 ],
 "metadata": {
  "kernelspec": {
   "display_name": "Python 3 (ipykernel)",
   "language": "python",
   "name": "python3"
  },
  "language_info": {
   "codemirror_mode": {
    "name": "ipython",
    "version": 3
   },
   "file_extension": ".py",
   "mimetype": "text/x-python",
   "name": "python",
   "nbconvert_exporter": "python",
   "pygments_lexer": "ipython3",
   "version": "3.9.12"
  }
 },
 "nbformat": 4,
 "nbformat_minor": 5
}
